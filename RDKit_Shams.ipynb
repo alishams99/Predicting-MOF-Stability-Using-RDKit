{
  "cells": [
    {
      "cell_type": "markdown",
      "metadata": {
        "id": "rRPEFVLH3-Ws"
      },
      "source": [
        "# Predicting the Stability of Metal-Organic Frameworks (MOFs) Using RDKit\n",
        "\n",
        "## Introduction\n",
        "Metal-Organic Frameworks (MOFs) are porous materials with applications in gas storage, catalysis, and more. Predicting their stability under various conditions is crucial for their practical use. This project uses RDKit to calculate molecular descriptors for MOFs and a machine learning model to predict their stability.\n",
        "\n",
        "### Goals:\n",
        "1. Collect and preprocess MOF data.\n",
        "2. Calculate molecular descriptors using RDKit.\n",
        "3. Train a machine learning model to predict MOF stability.\n",
        "4. Evaluate and visualize the model's performance.\n"
      ]
    },
    {
      "cell_type": "markdown",
      "metadata": {
        "id": "EGGfCint4CXS"
      },
      "source": [
        "## Step 1: Install Required Libraries\n",
        "Let's start by installing the necessary Python libraries, including RDKit, scikit-learn, pandas, numpy, matplotlib, and seaborn.\n"
      ]
    },
    {
      "cell_type": "code",
      "execution_count": 1,
      "metadata": {
        "colab": {
          "base_uri": "https://localhost:8080/"
        },
        "id": "Lt5qiO8P4D_v",
        "outputId": "c94c1829-519d-4678-83a0-8250e608736c"
      },
      "outputs": [
        {
          "name": "stderr",
          "output_type": "stream",
          "text": [
            "'conda' is not recognized as an internal or external command,\n",
            "operable program or batch file.\n"
          ]
        },
        {
          "name": "stdout",
          "output_type": "stream",
          "text": [
            "Requirement already satisfied: scikit-learn in c:\\users\\ali\\appdata\\local\\programs\\python\\python311\\lib\\site-packages (1.3.0)\n",
            "Requirement already satisfied: pandas in c:\\users\\ali\\appdata\\local\\programs\\python\\python311\\lib\\site-packages (1.5.3)\n",
            "Requirement already satisfied: numpy in c:\\users\\ali\\appdata\\local\\programs\\python\\python311\\lib\\site-packages (1.23.5)\n",
            "Requirement already satisfied: matplotlib in c:\\users\\ali\\appdata\\local\\programs\\python\\python311\\lib\\site-packages (3.7.2)\n",
            "Requirement already satisfied: seaborn in c:\\users\\ali\\appdata\\local\\programs\\python\\python311\\lib\\site-packages (0.13.0)\n",
            "Requirement already satisfied: scipy>=1.5.0 in c:\\users\\ali\\appdata\\local\\programs\\python\\python311\\lib\\site-packages (from scikit-learn) (1.10.1)\n",
            "Requirement already satisfied: joblib>=1.1.1 in c:\\users\\ali\\appdata\\local\\programs\\python\\python311\\lib\\site-packages (from scikit-learn) (1.3.2)\n",
            "Requirement already satisfied: threadpoolctl>=2.0.0 in c:\\users\\ali\\appdata\\local\\programs\\python\\python311\\lib\\site-packages (from scikit-learn) (3.2.0)\n",
            "Requirement already satisfied: python-dateutil>=2.8.1 in c:\\users\\ali\\appdata\\local\\programs\\python\\python311\\lib\\site-packages (from pandas) (2.8.2)\n",
            "Requirement already satisfied: pytz>=2020.1 in c:\\users\\ali\\appdata\\local\\programs\\python\\python311\\lib\\site-packages (from pandas) (2023.2)\n",
            "Requirement already satisfied: contourpy>=1.0.1 in c:\\users\\ali\\appdata\\local\\programs\\python\\python311\\lib\\site-packages (from matplotlib) (1.1.0)\n",
            "Requirement already satisfied: cycler>=0.10 in c:\\users\\ali\\appdata\\local\\programs\\python\\python311\\lib\\site-packages (from matplotlib) (0.11.0)\n",
            "Requirement already satisfied: fonttools>=4.22.0 in c:\\users\\ali\\appdata\\local\\programs\\python\\python311\\lib\\site-packages (from matplotlib) (4.42.1)\n",
            "Requirement already satisfied: kiwisolver>=1.0.1 in c:\\users\\ali\\appdata\\local\\programs\\python\\python311\\lib\\site-packages (from matplotlib) (1.4.5)\n",
            "Requirement already satisfied: packaging>=20.0 in c:\\users\\ali\\appdata\\local\\programs\\python\\python311\\lib\\site-packages (from matplotlib) (23.0)\n",
            "Requirement already satisfied: pillow>=6.2.0 in c:\\users\\ali\\appdata\\local\\programs\\python\\python311\\lib\\site-packages (from matplotlib) (10.0.0)\n",
            "Requirement already satisfied: pyparsing<3.1,>=2.3.1 in c:\\users\\ali\\appdata\\local\\programs\\python\\python311\\lib\\site-packages (from matplotlib) (3.0.9)\n",
            "Requirement already satisfied: six>=1.5 in c:\\users\\ali\\appdata\\local\\programs\\python\\python311\\lib\\site-packages (from python-dateutil>=2.8.1->pandas) (1.16.0)\n"
          ]
        },
        {
          "name": "stderr",
          "output_type": "stream",
          "text": [
            "\n",
            "[notice] A new release of pip is available: 23.2.1 -> 24.2\n",
            "[notice] To update, run: python.exe -m pip install --upgrade pip\n"
          ]
        }
      ],
      "source": [
        "!conda install -c conda-forge rdkit -y\n",
        "\n",
        "!pip install scikit-learn pandas numpy matplotlib seaborn"
      ]
    },
    {
      "cell_type": "markdown",
      "metadata": {
        "id": "AVcwa2dk4N2y"
      },
      "source": [
        "## Step 2: Data Collection\n",
        "For this project, we'll use a simulated dataset containing MOFs with known stability scores. In a real-world scenario, you could collect data from the Cambridge Structural Database (CSD) or other sources."
      ]
    },
    {
      "cell_type": "code",
      "execution_count": 2,
      "metadata": {
        "colab": {
          "base_uri": "https://localhost:8080/",
          "height": 206
        },
        "id": "JzPIhL_b4Qqz",
        "outputId": "cdad244d-5bf2-4c69-c300-b17f6265f22c"
      },
      "outputs": [
        {
          "data": {
            "text/html": [
              "<div>\n",
              "<style scoped>\n",
              "    .dataframe tbody tr th:only-of-type {\n",
              "        vertical-align: middle;\n",
              "    }\n",
              "\n",
              "    .dataframe tbody tr th {\n",
              "        vertical-align: top;\n",
              "    }\n",
              "\n",
              "    .dataframe thead th {\n",
              "        text-align: right;\n",
              "    }\n",
              "</style>\n",
              "<table border=\"1\" class=\"dataframe\">\n",
              "  <thead>\n",
              "    <tr style=\"text-align: right;\">\n",
              "      <th></th>\n",
              "      <th>MOF_ID</th>\n",
              "      <th>SMILES</th>\n",
              "      <th>Stability_Score</th>\n",
              "    </tr>\n",
              "  </thead>\n",
              "  <tbody>\n",
              "    <tr>\n",
              "      <th>0</th>\n",
              "      <td>MOF1</td>\n",
              "      <td>C1=CC=C(C=C1)C(=O)O</td>\n",
              "      <td>0.95</td>\n",
              "    </tr>\n",
              "    <tr>\n",
              "      <th>1</th>\n",
              "      <td>MOF2</td>\n",
              "      <td>C1=CC=CC=C1</td>\n",
              "      <td>0.78</td>\n",
              "    </tr>\n",
              "    <tr>\n",
              "      <th>2</th>\n",
              "      <td>MOF3</td>\n",
              "      <td>C1=CN=CN=C1</td>\n",
              "      <td>0.88</td>\n",
              "    </tr>\n",
              "    <tr>\n",
              "      <th>3</th>\n",
              "      <td>MOF4</td>\n",
              "      <td>C1=CC=C(C=C1)C(=O)O</td>\n",
              "      <td>0.91</td>\n",
              "    </tr>\n",
              "    <tr>\n",
              "      <th>4</th>\n",
              "      <td>MOF5</td>\n",
              "      <td>C1=CC=CC=C1</td>\n",
              "      <td>0.72</td>\n",
              "    </tr>\n",
              "  </tbody>\n",
              "</table>\n",
              "</div>"
            ],
            "text/plain": [
              "  MOF_ID               SMILES  Stability_Score\n",
              "0   MOF1  C1=CC=C(C=C1)C(=O)O             0.95\n",
              "1   MOF2          C1=CC=CC=C1             0.78\n",
              "2   MOF3          C1=CN=CN=C1             0.88\n",
              "3   MOF4  C1=CC=C(C=C1)C(=O)O             0.91\n",
              "4   MOF5          C1=CC=CC=C1             0.72"
            ]
          },
          "execution_count": 2,
          "metadata": {},
          "output_type": "execute_result"
        }
      ],
      "source": [
        "import pandas as pd\n",
        "\n",
        "data = {\n",
        "    'MOF_ID': ['MOF1', 'MOF2', 'MOF3', 'MOF4', 'MOF5'],\n",
        "    'SMILES': ['C1=CC=C(C=C1)C(=O)O', 'C1=CC=CC=C1', 'C1=CN=CN=C1', 'C1=CC=C(C=C1)C(=O)O', 'C1=CC=CC=C1'],\n",
        "    'Stability_Score': [0.95, 0.78, 0.88, 0.91, 0.72]\n",
        "}\n",
        "\n",
        "df = pd.DataFrame(data)\n",
        "df.head()"
      ]
    },
    {
      "cell_type": "markdown",
      "metadata": {
        "id": "42RW5p6q4jlS"
      },
      "source": [
        "## Step 3: Molecular Descriptor Calculation Using RDKit\n",
        "We will use RDKit to calculate molecular descriptors for each MOF in our dataset. These descriptors will be used as features in our machine learning model."
      ]
    },
    {
      "cell_type": "code",
      "execution_count": 3,
      "metadata": {
        "colab": {
          "base_uri": "https://localhost:8080/",
          "height": 383
        },
        "id": "ha7gIuKh4lOg",
        "outputId": "12fbcc7d-e77d-4283-d642-59bb71399001"
      },
      "outputs": [
        {
          "data": {
            "text/html": [
              "<div>\n",
              "<style scoped>\n",
              "    .dataframe tbody tr th:only-of-type {\n",
              "        vertical-align: middle;\n",
              "    }\n",
              "\n",
              "    .dataframe tbody tr th {\n",
              "        vertical-align: top;\n",
              "    }\n",
              "\n",
              "    .dataframe thead th {\n",
              "        text-align: right;\n",
              "    }\n",
              "</style>\n",
              "<table border=\"1\" class=\"dataframe\">\n",
              "  <thead>\n",
              "    <tr style=\"text-align: right;\">\n",
              "      <th></th>\n",
              "      <th>MOF_ID</th>\n",
              "      <th>SMILES</th>\n",
              "      <th>Stability_Score</th>\n",
              "      <th>MolWt</th>\n",
              "      <th>NumRotatableBonds</th>\n",
              "      <th>NumHDonors</th>\n",
              "      <th>NumHAcceptors</th>\n",
              "    </tr>\n",
              "  </thead>\n",
              "  <tbody>\n",
              "    <tr>\n",
              "      <th>0</th>\n",
              "      <td>MOF1</td>\n",
              "      <td>C1=CC=C(C=C1)C(=O)O</td>\n",
              "      <td>0.95</td>\n",
              "      <td>122.123</td>\n",
              "      <td>1.0</td>\n",
              "      <td>1.0</td>\n",
              "      <td>1.0</td>\n",
              "    </tr>\n",
              "    <tr>\n",
              "      <th>1</th>\n",
              "      <td>MOF2</td>\n",
              "      <td>C1=CC=CC=C1</td>\n",
              "      <td>0.78</td>\n",
              "      <td>78.114</td>\n",
              "      <td>0.0</td>\n",
              "      <td>0.0</td>\n",
              "      <td>0.0</td>\n",
              "    </tr>\n",
              "    <tr>\n",
              "      <th>2</th>\n",
              "      <td>MOF3</td>\n",
              "      <td>C1=CN=CN=C1</td>\n",
              "      <td>0.88</td>\n",
              "      <td>80.090</td>\n",
              "      <td>0.0</td>\n",
              "      <td>0.0</td>\n",
              "      <td>2.0</td>\n",
              "    </tr>\n",
              "    <tr>\n",
              "      <th>3</th>\n",
              "      <td>MOF4</td>\n",
              "      <td>C1=CC=C(C=C1)C(=O)O</td>\n",
              "      <td>0.91</td>\n",
              "      <td>122.123</td>\n",
              "      <td>1.0</td>\n",
              "      <td>1.0</td>\n",
              "      <td>1.0</td>\n",
              "    </tr>\n",
              "    <tr>\n",
              "      <th>4</th>\n",
              "      <td>MOF5</td>\n",
              "      <td>C1=CC=CC=C1</td>\n",
              "      <td>0.72</td>\n",
              "      <td>78.114</td>\n",
              "      <td>0.0</td>\n",
              "      <td>0.0</td>\n",
              "      <td>0.0</td>\n",
              "    </tr>\n",
              "  </tbody>\n",
              "</table>\n",
              "</div>"
            ],
            "text/plain": [
              "  MOF_ID               SMILES  Stability_Score    MolWt  NumRotatableBonds  \\\n",
              "0   MOF1  C1=CC=C(C=C1)C(=O)O             0.95  122.123                1.0   \n",
              "1   MOF2          C1=CC=CC=C1             0.78   78.114                0.0   \n",
              "2   MOF3          C1=CN=CN=C1             0.88   80.090                0.0   \n",
              "3   MOF4  C1=CC=C(C=C1)C(=O)O             0.91  122.123                1.0   \n",
              "4   MOF5          C1=CC=CC=C1             0.72   78.114                0.0   \n",
              "\n",
              "   NumHDonors  NumHAcceptors  \n",
              "0         1.0            1.0  \n",
              "1         0.0            0.0  \n",
              "2         0.0            2.0  \n",
              "3         1.0            1.0  \n",
              "4         0.0            0.0  "
            ]
          },
          "execution_count": 3,
          "metadata": {},
          "output_type": "execute_result"
        }
      ],
      "source": [
        "from rdkit import Chem\n",
        "from rdkit.Chem import Descriptors\n",
        "\n",
        "def calculate_descriptors(smiles):\n",
        "    mol = Chem.MolFromSmiles(smiles)\n",
        "    descriptors = {\n",
        "        'MolWt': Descriptors.MolWt(mol),\n",
        "        'NumRotatableBonds': Descriptors.NumRotatableBonds(mol),\n",
        "        'NumHDonors': Descriptors.NumHDonors(mol),\n",
        "        'NumHAcceptors': Descriptors.NumHAcceptors(mol)\n",
        "    }\n",
        "    return descriptors\n",
        "\n",
        "df_descriptors = df['SMILES'].apply(calculate_descriptors).apply(pd.Series)\n",
        "df = pd.concat([df, df_descriptors], axis=1)\n",
        "df.head()"
      ]
    },
    {
      "cell_type": "markdown",
      "metadata": {
        "id": "v9Nryl-u5P1q"
      },
      "source": [
        "## Step 4: Data Preprocessing\n",
        "Next, we will split the data into training and testing sets and standardize the features to prepare them for model training.\n"
      ]
    },
    {
      "cell_type": "code",
      "execution_count": 4,
      "metadata": {
        "id": "AEY0iAfl5RUT"
      },
      "outputs": [],
      "source": [
        "from sklearn.model_selection import train_test_split\n",
        "from sklearn.preprocessing import StandardScaler\n",
        "\n",
        "X = df[['MolWt', 'NumRotatableBonds', 'NumHDonors', 'NumHAcceptors']]\n",
        "y = df['Stability_Score']\n",
        "\n",
        "X_train, X_test, y_train, y_test = train_test_split(X, y, test_size=0.2, random_state=42)\n",
        "\n",
        "scaler = StandardScaler()\n",
        "X_train = scaler.fit_transform(X_train)\n",
        "X_test = scaler.transform(X_test)"
      ]
    },
    {
      "cell_type": "markdown",
      "metadata": {
        "id": "3DzAjNPi5Vhq"
      },
      "source": []
    },
    {
      "cell_type": "markdown",
      "metadata": {
        "id": "7Wl7cRqw5YI5"
      },
      "source": [
        "## Step 5: Model Training\n",
        "We'll train a Random Forest model to predict the stability of MOFs based on the calculated molecular descriptors.\n"
      ]
    },
    {
      "cell_type": "code",
      "execution_count": 5,
      "metadata": {
        "id": "UMOykSAo5ZRR"
      },
      "outputs": [
        {
          "name": "stdout",
          "output_type": "stream",
          "text": [
            "RMSE: 0.0014666666666673933\n"
          ]
        }
      ],
      "source": [
        "from sklearn.ensemble import RandomForestRegressor\n",
        "from sklearn.metrics import mean_squared_error\n",
        "\n",
        "# Train a Random Forest model\n",
        "model = RandomForestRegressor(n_estimators=100, random_state=42)\n",
        "model.fit(X_train, y_train)\n",
        "\n",
        "y_pred = model.predict(X_test)\n",
        "rmse = mean_squared_error(y_test, y_pred, squared=False)\n",
        "print(f'RMSE: {rmse}')"
      ]
    },
    {
      "cell_type": "markdown",
      "metadata": {
        "id": "k6hoskjp5cL5"
      },
      "source": [
        "## Step 6: Visualization\n",
        "Let's visualize the feature importance to understand which molecular descriptors contribute the most to the stability prediction."
      ]
    },
    {
      "cell_type": "code",
      "execution_count": 6,
      "metadata": {
        "id": "pD0J2zqT5e8S"
      },
      "outputs": [
        {
          "data": {
            "image/png": "[encoded data removed]",
            "text/plain": [
              "<Figure size 640x480 with 1 Axes>"
            ]
          },
          "metadata": {},
          "output_type": "display_data"
        }
      ],
      "source": [
        "import seaborn as sns\n",
        "import matplotlib.pyplot as plt\n",
        "\n",
        "importances = model.feature_importances_\n",
        "features = X.columns\n",
        "sns.barplot(x=importances, y=features)\n",
        "plt.title('Feature Importance in MOF Stability Prediction')\n",
        "plt.show()"
      ]
    },
    {
      "cell_type": "markdown",
      "metadata": {
        "id": "Wr2MfofB5iGg"
      },
      "source": [
        "## Step 7: Model Deployment\n",
        "Finally, we'll create a function that allows users to input a SMILES string representing a MOF's organic linker and get a predicted stability score.\n"
      ]
    },
    {
      "cell_type": "code",
      "execution_count": 7,
      "metadata": {
        "id": "jVYsL8Vj5kQ2"
      },
      "outputs": [
        {
          "name": "stdout",
          "output_type": "stream",
          "text": [
            "Predicted Stability Score: 0.9240666666666669\n"
          ]
        },
        {
          "name": "stderr",
          "output_type": "stream",
          "text": [
            "c:\\Users\\ali\\AppData\\Local\\Programs\\Python\\Python311\\Lib\\site-packages\\sklearn\\base.py:464: UserWarning: X does not have valid feature names, but StandardScaler was fitted with feature names\n",
            "  warnings.warn(\n"
          ]
        }
      ],
      "source": [
        "def predict_stability(smiles):\n",
        "    descriptors = calculate_descriptors(smiles)\n",
        "    features = scaler.transform([list(descriptors.values())])\n",
        "    prediction = model.predict(features)\n",
        "    return prediction[0]\n",
        "\n",
        "example_smiles = 'C1=CC=C(C=C1)C(=O)O'\n",
        "predicted_stability = predict_stability(example_smiles)\n",
        "print(f'Predicted Stability Score: {predicted_stability}')"
      ]
    },
    {
      "cell_type": "markdown",
      "metadata": {
        "id": "nhg4IIZB5oQu"
      },
      "source": [
        "## Conclusion and Next Steps\n",
        "In this project, we successfully predicted the stability of MOFs using RDKit to calculate molecular descriptors and a Random Forest model.\n",
        "\n",
        "### Potential Improvements:\n",
        "1. **Expand the dataset**: Incorporate more MOFs with diverse structures and stability data.\n",
        "2. **Explore advanced models**: Use more complex models like neural networks or ensemble methods.\n",
        "3. **Add more descriptors**: Experiment with additional molecular descriptors or custom features.\n"
      ]
    },
    {
      "cell_type": "markdown",
      "metadata": {
        "id": "2GkuCkqu5wgv"
      },
      "source": [
        "## References and Acknowledgments\n",
        "- RDKit documentation: [RDKit Documentation](https://www.rdkit.org/docs/)\n",
        "- Scikit-learn documentation: [Scikit-learn Documentation](https://scikit-learn.org/stable/)\n",
        "- Dataset sources: Potentially from [Cambridge Structural Database](https://www.ccdc.cam.ac.uk/solutions/csd-system/components/csd/).\n",
        "\n",
        "Special thanks to the open-source community for providing tools like RDKit and scikit-learn.\n"
      ]
    }
  ],
  "metadata": {
    "colab": {
      "provenance": []
    },
    "kernelspec": {
      "display_name": "Python 3",
      "name": "python3"
    },
    "language_info": {
      "codemirror_mode": {
        "name": "ipython",
        "version": 3
      },
      "file_extension": ".py",
      "mimetype": "text/x-python",
      "name": "python",
      "nbconvert_exporter": "python",
      "pygments_lexer": "ipython3",
      "version": "3.11.2"
    }
  },
  "nbformat": 4,
  "nbformat_minor": 0
}
